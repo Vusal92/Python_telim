{
 "cells": [
  {
   "cell_type": "markdown",
   "metadata": {},
   "source": [
    "### Predict the marks obtained based on the Number of hours studied and the number of hours slept"
   ]
  },
  {
   "cell_type": "markdown",
   "metadata": {},
   "source": [
    "### 1.Import Pandas for data processing"
   ]
  },
  {
   "cell_type": "code",
   "execution_count": 5,
   "metadata": {},
   "outputs": [],
   "source": [
    "import pandas as pd\n",
    "import numpy as np"
   ]
  },
  {
   "cell_type": "markdown",
   "metadata": {},
   "source": [
    "### 2.Read the CSV file"
   ]
  },
  {
   "cell_type": "code",
   "execution_count": 6,
   "metadata": {},
   "outputs": [],
   "source": [
    "data=students = pd.read_csv(\"Boston.csv\")"
   ]
  },
  {
   "cell_type": "markdown",
   "metadata": {},
   "source": [
    "### 3.Split into X (Independent) and Y (predicted)"
   ]
  },
  {
   "cell_type": "code",
   "execution_count": 22,
   "metadata": {},
   "outputs": [],
   "source": [
    "X=pd.DataFrame(np.c_[data['rm'],data['lstat']],columns=['rm','lstat'])\n",
    "Y=data['crim']"
   ]
  },
  {
   "cell_type": "code",
   "execution_count": 23,
   "metadata": {},
   "outputs": [
    {
     "data": {
      "text/html": [
       "<div>\n",
       "<style scoped>\n",
       "    .dataframe tbody tr th:only-of-type {\n",
       "        vertical-align: middle;\n",
       "    }\n",
       "\n",
       "    .dataframe tbody tr th {\n",
       "        vertical-align: top;\n",
       "    }\n",
       "\n",
       "    .dataframe thead th {\n",
       "        text-align: right;\n",
       "    }\n",
       "</style>\n",
       "<table border=\"1\" class=\"dataframe\">\n",
       "  <thead>\n",
       "    <tr style=\"text-align: right;\">\n",
       "      <th></th>\n",
       "      <th>rm</th>\n",
       "      <th>lstat</th>\n",
       "    </tr>\n",
       "  </thead>\n",
       "  <tbody>\n",
       "    <tr>\n",
       "      <th>0</th>\n",
       "      <td>6.575</td>\n",
       "      <td>4.98</td>\n",
       "    </tr>\n",
       "    <tr>\n",
       "      <th>1</th>\n",
       "      <td>6.421</td>\n",
       "      <td>9.14</td>\n",
       "    </tr>\n",
       "    <tr>\n",
       "      <th>2</th>\n",
       "      <td>7.185</td>\n",
       "      <td>4.03</td>\n",
       "    </tr>\n",
       "    <tr>\n",
       "      <th>3</th>\n",
       "      <td>6.998</td>\n",
       "      <td>2.94</td>\n",
       "    </tr>\n",
       "    <tr>\n",
       "      <th>4</th>\n",
       "      <td>7.147</td>\n",
       "      <td>5.33</td>\n",
       "    </tr>\n",
       "    <tr>\n",
       "      <th>...</th>\n",
       "      <td>...</td>\n",
       "      <td>...</td>\n",
       "    </tr>\n",
       "    <tr>\n",
       "      <th>501</th>\n",
       "      <td>6.593</td>\n",
       "      <td>9.67</td>\n",
       "    </tr>\n",
       "    <tr>\n",
       "      <th>502</th>\n",
       "      <td>6.120</td>\n",
       "      <td>9.08</td>\n",
       "    </tr>\n",
       "    <tr>\n",
       "      <th>503</th>\n",
       "      <td>6.976</td>\n",
       "      <td>5.64</td>\n",
       "    </tr>\n",
       "    <tr>\n",
       "      <th>504</th>\n",
       "      <td>6.794</td>\n",
       "      <td>6.48</td>\n",
       "    </tr>\n",
       "    <tr>\n",
       "      <th>505</th>\n",
       "      <td>6.030</td>\n",
       "      <td>7.88</td>\n",
       "    </tr>\n",
       "  </tbody>\n",
       "</table>\n",
       "<p>506 rows × 2 columns</p>\n",
       "</div>"
      ],
      "text/plain": [
       "        rm  lstat\n",
       "0    6.575   4.98\n",
       "1    6.421   9.14\n",
       "2    7.185   4.03\n",
       "3    6.998   2.94\n",
       "4    7.147   5.33\n",
       "..     ...    ...\n",
       "501  6.593   9.67\n",
       "502  6.120   9.08\n",
       "503  6.976   5.64\n",
       "504  6.794   6.48\n",
       "505  6.030   7.88\n",
       "\n",
       "[506 rows x 2 columns]"
      ]
     },
     "execution_count": 23,
     "metadata": {},
     "output_type": "execute_result"
    }
   ],
   "source": [
    "#view X\n",
    "X"
   ]
  },
  {
   "cell_type": "code",
   "execution_count": 24,
   "metadata": {},
   "outputs": [
    {
     "data": {
      "text/plain": [
       "0      0.00632\n",
       "1      0.02731\n",
       "2      0.02729\n",
       "3      0.03237\n",
       "4      0.06905\n",
       "        ...   \n",
       "501    0.06263\n",
       "502    0.04527\n",
       "503    0.06076\n",
       "504    0.10959\n",
       "505    0.04741\n",
       "Name: crim, Length: 506, dtype: float64"
      ]
     },
     "execution_count": 24,
     "metadata": {},
     "output_type": "execute_result"
    }
   ],
   "source": [
    "#view Y\n",
    "Y"
   ]
  },
  {
   "cell_type": "markdown",
   "metadata": {},
   "source": [
    "### 4.Split train and test data with 30% test size"
   ]
  },
  {
   "cell_type": "code",
   "execution_count": 25,
   "metadata": {},
   "outputs": [],
   "source": [
    "from sklearn.model_selection import train_test_split\n",
    "x_train,x_test,y_train,y_test=train_test_split(X,Y,test_size=0.3,random_state=10)"
   ]
  },
  {
   "cell_type": "markdown",
   "metadata": {},
   "source": [
    "### 5.Train the Multiple Linear Regression"
   ]
  },
  {
   "cell_type": "code",
   "execution_count": 26,
   "metadata": {},
   "outputs": [],
   "source": [
    "from sklearn.linear_model import LinearRegression\n",
    "from sklearn.metrics import mean_squared_error\n",
    "F =LinearRegression()"
   ]
  },
  {
   "cell_type": "markdown",
   "metadata": {},
   "source": [
    "### 6.Provide the training Data"
   ]
  },
  {
   "cell_type": "code",
   "execution_count": 27,
   "metadata": {},
   "outputs": [
    {
     "data": {
      "text/plain": [
       "LinearRegression()"
      ]
     },
     "execution_count": 27,
     "metadata": {},
     "output_type": "execute_result"
    }
   ],
   "source": [
    "F.fit(x_train,y_train)"
   ]
  },
  {
   "cell_type": "markdown",
   "metadata": {},
   "source": [
    "### 7.Predict the results"
   ]
  },
  {
   "cell_type": "code",
   "execution_count": 28,
   "metadata": {},
   "outputs": [
    {
     "data": {
      "text/plain": [
       "array([ 1.79513628e+00, -8.30501052e-02, -9.53387744e-01,  5.68611192e-01,\n",
       "        2.55852794e+00,  5.52271783e+00, -9.66955528e-01,  5.61924128e+00,\n",
       "        3.44224075e+00,  5.23350011e-01,  3.95536267e+00,  2.68695223e+00,\n",
       "        1.45376147e+00, -1.12679880e+00, -5.21929524e-01,  2.50909986e+00,\n",
       "       -5.43874028e-01,  3.20382774e+00,  1.64879383e+00,  4.51831105e+00,\n",
       "       -1.33277472e-01,  6.25112953e+00,  2.14322638e+00,  7.08188815e-04,\n",
       "       -7.58128913e-01,  1.28045293e+00,  6.76743550e+00,  5.34961263e+00,\n",
       "       -6.43376026e-02,  1.30048421e+01,  2.27043640e+00,  1.12053607e+00,\n",
       "        2.64842432e-01,  4.48965357e-01,  6.92440056e+00,  3.52039140e+00,\n",
       "        1.45430283e+01, -4.22456794e-01, -4.62958403e-01,  1.11896885e+00,\n",
       "        4.84912409e-01,  1.07428299e+00,  7.70528962e+00, -6.95860496e-01,\n",
       "        6.38923826e+00,  9.48969169e-01,  4.17375797e+00,  3.55715928e+00,\n",
       "        5.75097492e-01,  4.88908794e+00,  2.26154471e+00,  7.19526744e+00,\n",
       "        2.43494914e+00,  4.71740577e-01,  6.97791011e-01,  2.93050585e+00,\n",
       "        3.17051834e+00,  3.16306739e+00,  1.64035676e+00,  5.17032447e+00,\n",
       "        3.22306100e+00,  2.90500120e+00,  1.06976314e+00,  2.48405478e+00,\n",
       "       -2.55784164e-01,  6.36431304e+00, -7.88576616e-01,  1.06264783e+01,\n",
       "       -4.29063990e-02,  1.03602308e+00,  5.39772143e+00,  4.30137942e-01,\n",
       "        4.42231499e+00,  7.87923204e-01,  2.20849202e+00,  1.14197242e+01,\n",
       "        2.24527641e+00,  1.19265987e+01,  2.93351137e+00,  1.54734692e-01,\n",
       "        2.90025570e+00,  2.37421516e-02,  2.49555361e+00,  2.07082057e+00,\n",
       "        4.46391324e-01,  4.81549819e-01,  8.68790048e-01,  7.79305654e-02,\n",
       "       -3.69577695e-01,  1.42804811e+01,  2.04549593e-01,  2.12284993e+00,\n",
       "        1.65147448e+00, -1.19195551e-01,  3.93282549e+00,  7.74573834e+00,\n",
       "        8.68891719e-01,  4.18211239e+00,  1.18018997e+00,  3.42423911e+00,\n",
       "        2.69963968e+00,  2.44084939e+00,  3.39031390e+00,  5.47668555e-01,\n",
       "        7.31426193e+00,  3.14225945e+00,  3.54773442e+00,  5.92996999e+00,\n",
       "       -5.67823863e-01,  5.60348423e-02,  9.51221339e+00,  4.51223060e+00,\n",
       "        2.59516933e+00,  2.14680471e+00,  1.29981845e+00,  8.31063749e+00,\n",
       "        8.37915417e+00,  2.70645664e+00,  4.68800572e+00,  2.22563814e+00,\n",
       "       -9.23424423e-01,  7.50429556e-01,  2.26840299e+00,  9.92274549e+00,\n",
       "        3.93174844e+00,  1.59046332e+00,  8.08445069e+00,  2.56395537e+00,\n",
       "        2.26355499e+00,  1.36266546e+00,  1.34171453e+00,  1.03966635e+01,\n",
       "       -9.54573090e-01, -6.91384475e-01,  7.27818756e+00,  3.29743556e-01,\n",
       "        1.49367124e+00,  1.08944691e+00,  9.72372233e+00,  7.28274212e+00,\n",
       "       -3.81609051e-02,  7.90944266e+00,  7.01820036e+00,  1.40906488e+00,\n",
       "        9.69389538e+00,  1.04398351e+01,  2.08227389e+00, -2.32007914e-01,\n",
       "        6.95021094e-01,  1.41135620e+00,  4.28846737e+00,  4.52184806e+00])"
      ]
     },
     "execution_count": 28,
     "metadata": {},
     "output_type": "execute_result"
    }
   ],
   "source": [
    "y_predict=F.predict(x_test)\n",
    "y_predict"
   ]
  },
  {
   "cell_type": "markdown",
   "metadata": {},
   "source": [
    "### 8.Get the R-Squared"
   ]
  },
  {
   "cell_type": "code",
   "execution_count": 29,
   "metadata": {},
   "outputs": [
    {
     "data": {
      "text/plain": [
       "0.26619368392474807"
      ]
     },
     "execution_count": 29,
     "metadata": {},
     "output_type": "execute_result"
    }
   ],
   "source": [
    "Rscore=F.score(x_test,y_test)\n",
    "Rscore"
   ]
  },
  {
   "cell_type": "markdown",
   "metadata": {},
   "source": [
    "### 9.Coefficient and Intercept"
   ]
  },
  {
   "cell_type": "code",
   "execution_count": 30,
   "metadata": {},
   "outputs": [
    {
     "data": {
      "text/plain": [
       "array([1.32255585, 0.54398376])"
      ]
     },
     "execution_count": 30,
     "metadata": {},
     "output_type": "execute_result"
    }
   ],
   "source": [
    "coefficient=F.coef_\n",
    "coefficient"
   ]
  },
  {
   "cell_type": "code",
   "execution_count": 31,
   "metadata": {},
   "outputs": [
    {
     "data": {
      "text/plain": [
       "-11.812668226170814"
      ]
     },
     "execution_count": 31,
     "metadata": {},
     "output_type": "execute_result"
    }
   ],
   "source": [
    "intercept=F.intercept_\n",
    "intercept"
   ]
  },
  {
   "cell_type": "markdown",
   "metadata": {},
   "source": [
    "### 10.Calculate the errors using RMSE "
   ]
  },
  {
   "cell_type": "code",
   "execution_count": 32,
   "metadata": {},
   "outputs": [
    {
     "data": {
      "text/plain": [
       "8.17861324174062"
      ]
     },
     "execution_count": 32,
     "metadata": {},
     "output_type": "execute_result"
    }
   ],
   "source": [
    "import math\n",
    "RMSE=math.sqrt(mean_squared_error(y_test,y_predict))\n",
    "RMSE"
   ]
  },
  {
   "cell_type": "code",
   "execution_count": null,
   "metadata": {},
   "outputs": [],
   "source": []
  }
 ],
 "metadata": {
  "anaconda-cloud": {},
  "kernelspec": {
   "display_name": "Python 3",
   "language": "python",
   "name": "python3"
  },
  "language_info": {
   "codemirror_mode": {
    "name": "ipython",
    "version": 3
   },
   "file_extension": ".py",
   "mimetype": "text/x-python",
   "name": "python",
   "nbconvert_exporter": "python",
   "pygments_lexer": "ipython3",
   "version": "3.8.3"
  }
 },
 "nbformat": 4,
 "nbformat_minor": 1
}
